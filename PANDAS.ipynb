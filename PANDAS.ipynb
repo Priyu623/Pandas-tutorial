{
 "cells": [
  {
   "cell_type": "markdown",
   "metadata": {},
   "source": [
    "# PANDAS:"
   ]
  },
  {
   "cell_type": "markdown",
   "metadata": {},
   "source": [
    "A pandas series is similar to numpy arrays but with more functionality."
   ]
  },
  {
   "cell_type": "code",
   "execution_count": 15,
   "metadata": {},
   "outputs": [],
   "source": [
    "import numpy as np\n",
    "import pandas as pd"
   ]
  },
  {
   "cell_type": "code",
   "execution_count": 16,
   "metadata": {},
   "outputs": [
    {
     "name": "stdout",
     "output_type": "stream",
     "text": [
      "count    6.000000\n",
      "mean     3.666667\n",
      "std      2.160247\n",
      "min      1.000000\n",
      "25%      2.250000\n",
      "50%      3.500000\n",
      "75%      4.750000\n",
      "max      7.000000\n",
      "dtype: float64 \n",
      "\n"
     ]
    }
   ],
   "source": [
    "a = np.array([1,2,3,4,5,7])\n",
    "series = pd.Series([1,2,3,4,5,7])     # These function is not available in numpy arrays\n",
    "print(series.describe(),'\\n')"
   ]
  },
  {
   "cell_type": "code",
   "execution_count": 17,
   "metadata": {},
   "outputs": [
    {
     "name": "stdout",
     "output_type": "stream",
     "text": [
      "1 \n",
      "\n",
      "0    1\n",
      "1    2\n",
      "dtype: int64 \n",
      "\n",
      "0    1\n",
      "1    2\n",
      "2    3\n",
      "3    4\n",
      "4    5\n",
      "5    7\n",
      "dtype: int64 \n",
      "\n"
     ]
    }
   ],
   "source": [
    "series = pd.Series([1,2,3,4,5,7]) \n",
    "print(series[0],'\\n')               # One can access using the same way like numpy array.\n",
    "print(series[:2],'\\n')              # Same slicing notation\n",
    "print(series,'\\n')"
   ]
  },
  {
   "cell_type": "code",
   "execution_count": 18,
   "metadata": {},
   "outputs": [
    {
     "name": "stdout",
     "output_type": "stream",
     "text": [
      "\n",
      "\n",
      "mean: 3.6666666666666665\n",
      "std: 2.160246899469287\n",
      "max: 7\n",
      "count: 6\n"
     ]
    }
   ],
   "source": [
    "series = pd.Series([1,2,3,4,5,7])\n",
    "print('\\n')\n",
    "\n",
    "print('mean:',series.mean())\n",
    "print('std:',series.std())\n",
    "print('max:',series.max())\n",
    "print('count:',series.count())"
   ]
  },
  {
   "cell_type": "markdown",
   "metadata": {},
   "source": [
    "# Vectorized operations and index arrays:"
   ]
  },
  {
   "cell_type": "code",
   "execution_count": 19,
   "metadata": {},
   "outputs": [
    {
     "name": "stdout",
     "output_type": "stream",
     "text": [
      "0     2\n",
      "1     4\n",
      "2     4\n",
      "3    10\n",
      "4    12\n",
      "dtype: int64\n",
      "0     2\n",
      "1     4\n",
      "2     6\n",
      "3     8\n",
      "4    10\n",
      "dtype: int64\n",
      "0    False\n",
      "1     True\n",
      "2     True\n",
      "3     True\n",
      "4     True\n",
      "dtype: bool\n",
      "2    3\n",
      "3    4\n",
      "4    5\n",
      "dtype: int64\n"
     ]
    }
   ],
   "source": [
    "a = pd.Series([1,2,3,4,5])\n",
    "b = pd.Series([1,2,1,6,7])\n",
    "\n",
    "print(a+b)\n",
    "print(a*2)\n",
    "print(a>=2)\n",
    "print(a[a>=3])   "
   ]
  },
  {
   "cell_type": "markdown",
   "metadata": {},
   "source": [
    "# Pandas Series Index:"
   ]
  },
  {
   "cell_type": "code",
   "execution_count": 31,
   "metadata": {},
   "outputs": [
    {
     "name": "stdout",
     "output_type": "stream",
     "text": [
      "Whatspp         67890000\n",
      "Facebook       536744888\n",
      "Instagram    46237384949\n",
      "dtype: int64\n",
      "users[0]= 67890000\n",
      "users Facebook =  536744888\n"
     ]
    }
   ],
   "source": [
    "users = pd.Series([67890000,536744888,46237384949],index=[\"Whatspp\",\"Facebook\",\"Instagram\"])\n",
    "print(users)\n",
    "\n",
    "# Numpy arrays of like superman version of lists.\n",
    "# A pandas series is like a mix of list and dictionary.\n",
    "\n",
    "print('users[0]=',users[0])\n",
    "print('users Facebook = ',users['Facebook'])"
   ]
  },
  {
   "cell_type": "markdown",
   "metadata": {},
   "source": [
    "# Pandas advantages over numpy:"
   ]
  },
  {
   "cell_type": "code",
   "execution_count": 34,
   "metadata": {},
   "outputs": [
    {
     "name": "stdout",
     "output_type": "stream",
     "text": [
      "[   89374980    72362357 18328773726]\n",
      "users of instagram is 72362357\n"
     ]
    }
   ],
   "source": [
    "# How we will do the same thing in numpy:\n",
    "\n",
    "users = np.array([89374980,72362357,18328773726])\n",
    "index = np.array([\"Whatapp\",\"instagram\",\"Facebook\"])\n",
    "print(users)\n",
    "\n",
    "# Numpy arrays of like superman version of lists.\n",
    "# A pandas series is like a mix of list and dictionary.\n",
    "\n",
    "print('users of {} is {}'.format(index[1],users[1]))"
   ]
  },
  {
   "cell_type": "markdown",
   "metadata": {},
   "source": [
    "# Pandas loc and iloc:"
   ]
  },
  {
   "cell_type": "code",
   "execution_count": 35,
   "metadata": {},
   "outputs": [
    {
     "name": "stdout",
     "output_type": "stream",
     "text": [
      "0    12\n",
      "1    45\n",
      "2    66\n",
      "3    89\n",
      "dtype: int64\n"
     ]
    }
   ],
   "source": [
    "nums = pd.Series([12,45,66,89])\n",
    "print(nums)"
   ]
  },
  {
   "cell_type": "code",
   "execution_count": 37,
   "metadata": {},
   "outputs": [
    {
     "name": "stdout",
     "output_type": "stream",
     "text": [
      "67890000\n",
      "67890000\n",
      "67890000\n"
     ]
    }
   ],
   "source": [
    "users = pd.Series([67890000,536744888,46237384949],index=[\"Whatspp\",\"Facebook\",\"Instagram\"])\n",
    "\n",
    "print(users[0])    # Accessing using no. without iloc.\n",
    "\n",
    "print(users.iloc[0])  # Accessing using number index.\n",
    "\n",
    "print(users.loc['Whatspp'])   # Accessing using index."
   ]
  },
  {
   "cell_type": "markdown",
   "metadata": {},
   "source": [
    "# pandas example finding max:"
   ]
  },
  {
   "cell_type": "code",
   "execution_count": 43,
   "metadata": {},
   "outputs": [
    {
     "name": "stdout",
     "output_type": "stream",
     "text": [
      "0.25.1\n",
      "social media with maximum users= 2\n",
      "The maximum users of social media= Facebook and users = 46237384949\n"
     ]
    }
   ],
   "source": [
    "# finding out maximum users:\n",
    "\n",
    "print(pd.__version__)\n",
    "\n",
    "users = pd.Series([67890000,536744888,46237384949],index=[\"Whatspp\",\"Facebook\",\"Instagram\"])\n",
    "\n",
    "print(\"social media with maximum users=\",users.values.argmax())\n",
    "\n",
    "print(\"The maximum users of social media= {} and users = {}\".format(index[users.values.argmax()],\n",
    "                                         users.iloc[users.values.argmax()]))"
   ]
  },
  {
   "cell_type": "markdown",
   "metadata": {},
   "source": [
    "# Pandas series additon:"
   ]
  },
  {
   "cell_type": "code",
   "execution_count": 48,
   "metadata": {},
   "outputs": [
    {
     "name": "stdout",
     "output_type": "stream",
     "text": [
      "a     3\n",
      "b     9\n",
      "c    12\n",
      "d     5\n",
      "dtype: int64\n"
     ]
    }
   ],
   "source": [
    "# Addition when index are same.\n",
    "\n",
    "s1 = pd.Series([1,2,3,4],index=['a','b','c','d'])\n",
    "s2 = pd.Series([2,7,9,1],index=['a','b','c','d'])\n",
    "print(s1+s2)"
   ]
  },
  {
   "cell_type": "code",
   "execution_count": 50,
   "metadata": {},
   "outputs": [
    {
     "name": "stdout",
     "output_type": "stream",
     "text": [
      "a    NaN\n",
      "b    9.0\n",
      "c    NaN\n",
      "d    6.0\n",
      "e    NaN\n",
      "f    NaN\n",
      "dtype: float64\n"
     ]
    }
   ],
   "source": [
    "# Index have same elements in different order:\n",
    "\n",
    "s1 = pd.Series([1,2,3,4],index=['a','b','c','d'])\n",
    "s2 = pd.Series([2,7,9,1],index=['d','b','a','c'])\n",
    "print(s1+s2)"
   ]
  },
  {
   "cell_type": "code",
   "execution_count": 51,
   "metadata": {},
   "outputs": [
    {
     "name": "stdout",
     "output_type": "stream",
     "text": [
      "a    NaN\n",
      "b    9.0\n",
      "c    NaN\n",
      "d    6.0\n",
      "e    NaN\n",
      "f    NaN\n",
      "dtype: float64\n"
     ]
    }
   ],
   "source": [
    "# Index overlap,but do not have exactly the same element:\n",
    "\n",
    "s1 = pd.Series([1,2,3,4],index=['a','b','c','d'])\n",
    "s2 = pd.Series([2,7,9,1],index=['d','b','f','e'])\n",
    "print(s1+s2)"
   ]
  },
  {
   "cell_type": "code",
   "execution_count": 53,
   "metadata": {},
   "outputs": [
    {
     "name": "stdout",
     "output_type": "stream",
     "text": [
      "a   NaN\n",
      "b   NaN\n",
      "c   NaN\n",
      "d   NaN\n",
      "e   NaN\n",
      "f   NaN\n",
      "g   NaN\n",
      "h   NaN\n",
      "dtype: float64\n"
     ]
    }
   ],
   "source": [
    "# Index do not overlap:\n",
    "\n",
    "s1 = pd.Series([1,2,3,4],index=['a','b','c','d'])\n",
    "s2 = pd.Series([2,7,9,1],index=['h','g','f','e'])\n",
    "print(s1+s2)"
   ]
  },
  {
   "cell_type": "code",
   "execution_count": 54,
   "metadata": {},
   "outputs": [
    {
     "name": "stdout",
     "output_type": "stream",
     "text": [
      "a    2.0\n",
      "b    NaN\n",
      "c    NaN\n",
      "d    6.0\n",
      "f    NaN\n",
      "g    NaN\n",
      "dtype: float64\n",
      "a    2.0\n",
      "d    6.0\n",
      "dtype: float64\n"
     ]
    }
   ],
   "source": [
    "# using dropna:\n",
    "\n",
    "s1 = pd.Series([1,2,3,4],index=['a','b','c','d'])\n",
    "s2 = pd.Series([2,7,9,1],index=['d','g','f','a'])       \n",
    "result = s1+s2\n",
    "print(result)\n",
    "print(result.dropna())                                     # dropna is used for droping null values."
   ]
  },
  {
   "cell_type": "markdown",
   "metadata": {},
   "source": [
    "# pandas Apply  function:\n",
    "\n"
   ]
  },
  {
   "cell_type": "code",
   "execution_count": 58,
   "metadata": {},
   "outputs": [
    {
     "name": "stdout",
     "output_type": "stream",
     "text": [
      "a     India\n",
      "b     China\n",
      "c    France\n",
      "dtype: object\n"
     ]
    }
   ],
   "source": [
    "# Using pandas apply function:\n",
    "\n",
    "def make_capital(str):\n",
    "    return str.capitalize()\n",
    "\n",
    "s1 = pd.Series(['India','china','france'],index = ['a','b','c'])\n",
    "s2 = s1.apply(make_capital)\n",
    "\n",
    "print(s2)"
   ]
  },
  {
   "cell_type": "code",
   "execution_count": 59,
   "metadata": {},
   "outputs": [
    {
     "name": "stdout",
     "output_type": "stream",
     "text": [
      "  country   Population capital\n",
      "0   India  12239887784   Delhi\n",
      "1   china   6737368379  Bejing\n",
      "2     usa    928093738  France\n",
      "Population    6.635117e+09\n",
      "dtype: float64\n"
     ]
    }
   ],
   "source": [
    "# Pandas DataFrames introduction:\n",
    "\n",
    "country = pd.DataFrame({\n",
    "    'country':['India','china','usa'],\n",
    "    'Population':[12239887784,6737368379,928093738],\n",
    "    'capital':['Delhi','Bejing','France']\n",
    "})\n",
    "\n",
    "print(country)\n",
    "\n",
    "print(country.mean())"
   ]
  },
  {
   "cell_type": "markdown",
   "metadata": {},
   "source": [
    "# Pandas DataFrame index,iloc and loc:"
   ]
  },
  {
   "cell_type": "code",
   "execution_count": 72,
   "metadata": {},
   "outputs": [
    {
     "name": "stdout",
     "output_type": "stream",
     "text": [
      "             gdp   Population capital\n",
      "India    7467733  12239887784   Delhi\n",
      "china    6736883   6737368379  Bejing\n",
      "Usa    682889973    928093738  France \n",
      "\n",
      "gdp           682889973\n",
      "Population    928093738\n",
      "capital          France\n",
      "Name: Usa, dtype: object \n",
      "\n",
      "gdp              6736883\n",
      "Population    6737368379\n",
      "capital           Bejing\n",
      "Name: china, dtype: object\n"
     ]
    }
   ],
   "source": [
    "country = pd.DataFrame({\n",
    "    'gdp':[7467733,6736883,682889973],\n",
    "    'Population':[12239887784,6737368379,928093738],\n",
    "    'capital':['Delhi','Bejing','France']\n",
    "},\n",
    "index = ['India','china','Usa'])\n",
    "\n",
    "print(country,'\\n')\n",
    "\n",
    "print(country.loc['Usa'],'\\n')\n",
    "\n",
    "print(country.iloc[1])"
   ]
  },
  {
   "cell_type": "markdown",
   "metadata": {},
   "source": [
    "# Pandas sum along axis:"
   ]
  },
  {
   "cell_type": "code",
   "execution_count": 73,
   "metadata": {},
   "outputs": [
    {
     "name": "stdout",
     "output_type": "stream",
     "text": [
      "[[7467733 12239887784 'Delhi']\n",
      " [6736883 6737368379 'Bejing']\n",
      " [682889973 928093738 'France']]\n"
     ]
    }
   ],
   "source": [
    "country = pd.DataFrame({\n",
    "    'gdp':[7467733,6736883,682889973],\n",
    "    'Population':[12239887784,6737368379,928093738],\n",
    "    'capital':['Delhi','Bejing','France']\n",
    "},\n",
    "index = ['India','china','Usa'])\n",
    " \n",
    "print(country.values)               # Output as numpy values."
   ]
  },
  {
   "cell_type": "code",
   "execution_count": 74,
   "metadata": {},
   "outputs": [
    {
     "name": "stdout",
     "output_type": "stream",
     "text": [
      "   A  B\n",
      "0  9  3\n",
      "1  2  8\n",
      "2  6  1 \n",
      "\n",
      "A    17\n",
      "B    12\n",
      "dtype: int64 \n",
      "\n",
      "A    17\n",
      "B    12\n",
      "dtype: int64 \n",
      "\n",
      "0    12\n",
      "1    10\n",
      "2     7\n",
      "dtype: int64 \n",
      "\n"
     ]
    }
   ],
   "source": [
    "# Pandas axis:\n",
    "\n",
    "df = pd.DataFrame({'A':[9,2,6], 'B':[3,8,1]})\n",
    "\n",
    "print(df,'\\n')\n",
    "\n",
    "print(df.sum(),'\\n')\n",
    "\n",
    "print(df.sum(axis = 0),'\\n')               # row = 0\n",
    "\n",
    "print(df.sum(axis = 1), '\\n')              # row = 1"
   ]
  },
  {
   "cell_type": "markdown",
   "metadata": {},
   "source": [
    "# Pandas DataFrame Addition:"
   ]
  },
  {
   "cell_type": "code",
   "execution_count": 92,
   "metadata": {},
   "outputs": [
    {
     "name": "stdout",
     "output_type": "stream",
     "text": [
      "    a   b   c\n",
      "0  10   7  12\n",
      "1   4  13  15\n",
      "2   9   7  18 \n",
      "\n",
      "    a   b   c   d\n",
      "0  13 NaN  12 NaN\n",
      "1   7 NaN  15 NaN\n",
      "2  12 NaN  18 NaN \n",
      "\n",
      "       a    b     c\n",
      "r1  12.0  9.0  14.0\n",
      "r2   NaN  NaN   NaN\n",
      "r3   NaN  NaN   NaN\n",
      "r4   NaN  NaN   NaN\n",
      "r5   NaN  NaN   NaN \n",
      "\n"
     ]
    }
   ],
   "source": [
    "# EX:- vectorized operation on DataFrame.\n",
    "\n",
    "# Adding DataFrame with column name.\n",
    "\n",
    "df1 = pd.DataFrame({'a':[9,2,6], 'b':[3,8,1], 'c':[5,7,9]})\n",
    "df2 = pd.DataFrame({'a':[1,2,3], 'b':[4,5,6], 'c':[7,8,9]})\n",
    "print(df1+df2,'\\n')\n",
    "\n",
    "# Adding DataFrame with overlapping column name.\n",
    "\n",
    "df1 = pd.DataFrame({'a':[9,2,6], 'b':[3,8,1], 'c':[5,7,9]})\n",
    "df2 = pd.DataFrame({'d':[1,2,3], 'a':[4,5,6], 'c':[7,8,9]})\n",
    "print(df1+df2,'\\n')\n",
    "\n",
    "#Adding DataFrame with overlapping row index.\n",
    "\n",
    "df1 = pd.DataFrame({'a':[9,2,6], 'b':[3,8,1], 'c':[5,7,9]},index=['r1','r2','r3'])\n",
    "df2 = pd.DataFrame({'a':[1,2,3], 'b':[4,5,6], 'c':[7,8,9]},index=['r4','r5','r1'])\n",
    "print(df1+df2,'\\n')\n",
    "      \n",
    "\n"
   ]
  },
  {
   "cell_type": "markdown",
   "metadata": {},
   "source": [
    "# Pandas DataFrame Applymap:"
   ]
  },
  {
   "cell_type": "code",
   "execution_count": 97,
   "metadata": {},
   "outputs": [
    {
     "name": "stdout",
     "output_type": "stream",
     "text": [
      "   a  b   c\n",
      "0  2  5   8\n",
      "1  3  6   9\n",
      "2  4  7  10\n"
     ]
    }
   ],
   "source": [
    "# applymap() : applies a function to every single element in the entire dataframe.\n",
    "\n",
    "# DataFrame applymap()\n",
    "\n",
    "df = pd.DataFrame({\n",
    "                'a':[1,2,3],\n",
    "                'b':[4,5,6],\n",
    "                'c':[7,8,9]\n",
    "            })\n",
    "    \n",
    "def add_one(x):\n",
    "    return x+1\n",
    "    \n",
    "print(df.applymap(add_one))    \n",
    "    "
   ]
  },
  {
   "cell_type": "code",
   "execution_count": null,
   "metadata": {},
   "outputs": [],
   "source": []
  }
 ],
 "metadata": {
  "kernelspec": {
   "display_name": "Python 3",
   "language": "python",
   "name": "python3"
  },
  "language_info": {
   "codemirror_mode": {
    "name": "ipython",
    "version": 3
   },
   "file_extension": ".py",
   "mimetype": "text/x-python",
   "name": "python",
   "nbconvert_exporter": "python",
   "pygments_lexer": "ipython3",
   "version": "3.7.4"
  }
 },
 "nbformat": 4,
 "nbformat_minor": 2
}
